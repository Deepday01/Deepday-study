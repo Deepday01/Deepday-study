{
 "cells": [
  {
   "cell_type": "markdown",
   "metadata": {},
   "source": [
    "큰 제목\n",
    "===\n",
    "작은 제목\n",
    "----\n",
    "# 1.목록"
   ]
  },
  {
   "cell_type": "markdown",
   "metadata": {},
   "source": [
    "# 글머리1\n",
    "## 글머리2\n",
    "###### 글머리6\n",
    "####### 글머리7"
   ]
  },
  {
   "cell_type": "markdown",
   "metadata": {},
   "source": [
    "1. 첫번째\n",
    "3. 세번째\n",
    "2. 두번째"
   ]
  },
  {
   "cell_type": "markdown",
   "metadata": {},
   "source": [
    "* 1st\n",
    "  무언가\n",
    "  * 2nd\n",
    "    * 3rd\n",
    "  + 4th    "
   ]
  },
  {
   "cell_type": "markdown",
   "metadata": {},
   "source": [
    "## 2.4 코드블럭\n",
    "\n",
    "```\n",
    "\n",
    "```\n",
    "class myclass\n"
   ]
  },
  {
   "cell_type": "markdown",
   "metadata": {},
   "source": [
    "```python\n",
    "class myclass()"
   ]
  },
  {
   "cell_type": "markdown",
   "metadata": {},
   "source": [
    "## 2.5. 링크\n",
    "```\n",
    "[키워드](링크)\n",
    "예 : [구글](https://google.com)\n",
    "```\n",
    "[구글](https://google.com)\n",
    "\n",
    "구글:<https://google.com>"
   ]
  },
  {
   "cell_type": "markdown",
   "metadata": {},
   "source": [
    "```\n",
    "새로만들었다능"
   ]
  },
  {
   "cell_type": "markdown",
   "metadata": {},
   "source": [
    "```\n",
    "새로 또 만들었다능"
   ]
  },
  {
   "cell_type": "markdown",
   "metadata": {},
   "source": []
  }
 ],
 "metadata": {
  "kernelspec": {
   "display_name": "Python 3.7.13 ('test3')",
   "language": "python",
   "name": "python3"
  },
  "language_info": {
   "name": "python",
   "version": "3.7.13"
  },
  "orig_nbformat": 4,
  "vscode": {
   "interpreter": {
    "hash": "885e7c1b7684780622c90973b6b2fbfe2db35986f485d383458ce632bed86f10"
   }
  }
 },
 "nbformat": 4,
 "nbformat_minor": 2
}

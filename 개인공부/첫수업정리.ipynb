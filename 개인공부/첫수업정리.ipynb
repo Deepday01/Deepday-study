{
 "cells": [
  {
   "cell_type": "markdown",
   "metadata": {},
   "source": [
    "수업 정리\n",
    "==="
   ]
  },
  {
   "cell_type": "markdown",
   "metadata": {},
   "source": [
    "# ipynb로 노트형식 만들기.(지금 적는 형식)\n",
    "1. explorer창 - new file - 제목을 '~.ipynb' 로 설정.\n",
    "#확장자명을 어떻게 적어도 만들수 있다."
   ]
  },
  {
   "cell_type": "markdown",
   "metadata": {},
   "source": [
    "# anaconda 사용해서 가상환경 만들기.\n",
    "\n",
    "1. (base) C:\\Users\\mhi12>conda creat -n 가상환경이름 python=3.7\n",
    "\n",
    "2. (base) C:\\Users\\mhi12>conda activate 가상환경이름\n",
    "   \n",
    "   (가상환경 이름) ~~~ \n",
    "\n",
    "3. conda install ipykernel #콘다에 설치하는 애들은 이름만 치면 알아서 깔아줌"
   ]
  },
  {
   "cell_type": "markdown",
   "metadata": {},
   "source": [
    "# VScode 시작\n",
    "\n",
    "1. Extensions : VS코드 기능 다운가능.\n",
    "2. python, python extension pack 다운."
   ]
  },
  {
   "cell_type": "markdown",
   "metadata": {},
   "source": [
    "# Git & Github \n",
    "* 개요 : summer-project의 pdf확인.\n",
    "* Working - Staging - Local - Remote\n",
    "1. conda innstall git\n",
    "2. git config --global user.name \"Hong-il\"\n",
    "3. git config --global user.email \"mhi1248@naver.com\"\n",
    "\n",
    "4. Extension에서 git graph 설치.\n",
    "\n",
    "\n"
   ]
  },
  {
   "cell_type": "markdown",
   "metadata": {},
   "source": []
  }
 ],
 "metadata": {
  "kernelspec": {
   "display_name": "Python 3.7.13 ('test3')",
   "language": "python",
   "name": "python3"
  },
  "language_info": {
   "codemirror_mode": {
    "name": "ipython",
    "version": 3
   },
   "file_extension": ".py",
   "mimetype": "text/x-python",
   "name": "python",
   "nbconvert_exporter": "python",
   "pygments_lexer": "ipython3",
   "version": "3.7.13"
  },
  "orig_nbformat": 4,
  "vscode": {
   "interpreter": {
    "hash": "885e7c1b7684780622c90973b6b2fbfe2db35986f485d383458ce632bed86f10"
   }
  }
 },
 "nbformat": 4,
 "nbformat_minor": 2
}
